{
  "nbformat": 4,
  "nbformat_minor": 0,
  "metadata": {
    "colab": {
      "provenance": [],
      "authorship_tag": "ABX9TyMVKf/hrGomkYf0rbXWCcAs",
      "include_colab_link": true
    },
    "kernelspec": {
      "name": "python3",
      "display_name": "Python 3"
    },
    "language_info": {
      "name": "python"
    }
  },
  "cells": [
    {
      "cell_type": "markdown",
      "metadata": {
        "id": "view-in-github",
        "colab_type": "text"
      },
      "source": [
        "<a href=\"https://colab.research.google.com/github/jsgovea/PyTorch-learning/blob/main/cnn_example.ipynb\" target=\"_parent\"><img src=\"https://colab.research.google.com/assets/colab-badge.svg\" alt=\"Open In Colab\"/></a>"
      ]
    },
    {
      "cell_type": "code",
      "execution_count": 6,
      "metadata": {
        "id": "SB6rLS2zebqM"
      },
      "outputs": [],
      "source": [
        "import numpy as np\n",
        "import torch\n",
        "import torch.nn as nn\n",
        "import torch.nn.functional as F\n",
        "\n",
        "from torch.utils.data import DataLoader, sampler\n",
        "import torchvision.datasets as datasets\n",
        "import torchvision.transforms as T\n",
        "import matplotlib.pyplot as plt\n"
      ]
    },
    {
      "cell_type": "code",
      "source": [
        "DATA_PATH = '/content/cifar-10'\n",
        "NUM_TRAIN = 50000\n",
        "NUM_VAL = 5000\n",
        "NUM_TEST = 5000\n",
        "MINBATCH_SIZE = 64\n",
        "\n",
        "transform_cifar = T.Compose([\n",
        "    T.ToTensor(),\n",
        "    T.Normalize([0.491, 0.482, 0.447], [0.247, 0.243, 0.261])\n",
        "])"
      ],
      "metadata": {
        "id": "CfDGveWKfuIi"
      },
      "execution_count": 9,
      "outputs": []
    },
    {
      "cell_type": "code",
      "source": [
        "# Train dataset\n",
        "\n",
        "# Download the dataset\n",
        "cifar10_train = datasets.CIFAR10(DATA_PATH, train=True, download=True,\n",
        "                                 transform=transform_cifar)\n",
        "train_loader = DataLoader(cifar10_train, batch_size=MINBATCH_SIZE,\n",
        "                          sampler=sampler.SubsetRandomSampler(range(NUM_TRAIN)))\n"
      ],
      "metadata": {
        "colab": {
          "base_uri": "https://localhost:8080/"
        },
        "id": "5DJGX0PDgrJA",
        "outputId": "bc960c3b-9f4b-4a6d-fcc7-89bd012ba65b"
      },
      "execution_count": 10,
      "outputs": [
        {
          "output_type": "stream",
          "name": "stdout",
          "text": [
            "Downloading https://www.cs.toronto.edu/~kriz/cifar-10-python.tar.gz to /content/cifar-10/cifar-10-python.tar.gz\n"
          ]
        },
        {
          "output_type": "stream",
          "name": "stderr",
          "text": [
            "100%|██████████| 170498071/170498071 [00:09<00:00, 17894263.84it/s]\n"
          ]
        },
        {
          "output_type": "stream",
          "name": "stdout",
          "text": [
            "Extracting /content/cifar-10/cifar-10-python.tar.gz to /content/cifar-10\n"
          ]
        }
      ]
    },
    {
      "cell_type": "code",
      "source": [],
      "metadata": {
        "id": "oRxFhamwgrGb"
      },
      "execution_count": null,
      "outputs": []
    }
  ]
}