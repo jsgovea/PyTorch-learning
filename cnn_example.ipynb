{
  "nbformat": 4,
  "nbformat_minor": 0,
  "metadata": {
    "colab": {
      "provenance": [],
      "authorship_tag": "ABX9TyP+kO0HOIXI8oKDQaPyFfWO",
      "include_colab_link": true
    },
    "kernelspec": {
      "name": "python3",
      "display_name": "Python 3"
    },
    "language_info": {
      "name": "python"
    }
  },
  "cells": [
    {
      "cell_type": "markdown",
      "metadata": {
        "id": "view-in-github",
        "colab_type": "text"
      },
      "source": [
        "<a href=\"https://colab.research.google.com/github/jsgovea/PyTorch-learning/blob/main/cnn_example.ipynb\" target=\"_parent\"><img src=\"https://colab.research.google.com/assets/colab-badge.svg\" alt=\"Open In Colab\"/></a>"
      ]
    },
    {
      "cell_type": "code",
      "execution_count": 6,
      "metadata": {
        "id": "SB6rLS2zebqM"
      },
      "outputs": [],
      "source": [
        "import numpy as np\n",
        "import torch\n",
        "import torch.nn as nn\n",
        "import torch.nn.functional as F\n",
        "\n",
        "from torch.utils.data import DataLoader, sampler\n",
        "import torchvision.datasets as datasets\n",
        "import torchvision.transforms as T\n",
        "import matplotlib.pyplot as plt\n"
      ]
    },
    {
      "cell_type": "code",
      "source": [
        "DATA_PATH = '/content/cifar-10'\n",
        "NUM_TRAIN = 50000\n",
        "NUM_VAL = 5000\n",
        "NUM_TEST = 5000\n",
        "MINBATCH_SIZE = 64\n",
        "\n",
        "transform_cifar = T.Compose([\n",
        "    T.ToTensor(),\n",
        "    T.Normalize([0.491, 0.482, 0.447], [0.247, 0.243, 0.261])\n",
        "])"
      ],
      "metadata": {
        "id": "CfDGveWKfuIi"
      },
      "execution_count": 9,
      "outputs": []
    },
    {
      "cell_type": "code",
      "source": [
        "# Train dataset\n",
        "\n",
        "# Download the dataset\n",
        "cifar10_train = datasets.CIFAR10(DATA_PATH, train=True, download=True,\n",
        "                                 transform=transform_cifar)\n",
        "\n",
        "train_loader = DataLoader(cifar10_train, batch_size=MINBATCH_SIZE,\n",
        "                          sampler=sampler.SubsetRandomSampler(range(NUM_TRAIN)))\n",
        "\n",
        "cifar10_val = datasets.CIFAR10(DATA_PATH, train=False, download=True,\n",
        "                              transform=transform_cifar)\n",
        "\n",
        "val_loader = DataLoader(cifar10_val, batch_size=MINBATCH_SIZE,\n",
        "                        sampler=sampler.SubsetRandomSampler(range(NUM_VAL)))\n",
        "\n",
        "cifar10_test = datasets.CIFAR10(DATA_PATH, train=False, download=True,\n",
        "                                transform=transform_cifar)\n",
        "\n",
        "test_loader = DataLoader(cifar10_test, batch_size=MINBATCH_SIZE,\n",
        "                         sampler=sampler.SubsetRandomSampler(range(NUM_VAL, len(cifar10_test))))\n",
        "\n"
      ],
      "metadata": {
        "colab": {
          "base_uri": "https://localhost:8080/"
        },
        "id": "5DJGX0PDgrJA",
        "outputId": "c7d693ff-d682-4605-e871-2e908fc7b26e"
      },
      "execution_count": 12,
      "outputs": [
        {
          "output_type": "stream",
          "name": "stdout",
          "text": [
            "Files already downloaded and verified\n",
            "Files already downloaded and verified\n",
            "Files already downloaded and verified\n"
          ]
        }
      ]
    },
    {
      "cell_type": "code",
      "source": [
        "test_loader.dataset"
      ],
      "metadata": {
        "colab": {
          "base_uri": "https://localhost:8080/"
        },
        "id": "oRxFhamwgrGb",
        "outputId": "3aa79e63-d232-48b2-d459-a9c855b09068"
      },
      "execution_count": 15,
      "outputs": [
        {
          "output_type": "execute_result",
          "data": {
            "text/plain": [
              "Dataset CIFAR10\n",
              "    Number of datapoints: 10000\n",
              "    Root location: /content/cifar-10\n",
              "    Split: Test\n",
              "    StandardTransform\n",
              "Transform: Compose(\n",
              "               ToTensor()\n",
              "               Normalize(mean=[0.491, 0.482, 0.447], std=[0.247, 0.243, 0.261])\n",
              "           )"
            ]
          },
          "metadata": {},
          "execution_count": 15
        }
      ]
    },
    {
      "cell_type": "markdown",
      "source": [
        "## Check the GPUs"
      ],
      "metadata": {
        "id": "mX1NkQ9T0Nc7"
      }
    },
    {
      "cell_type": "code",
      "source": [
        "if torch.cuda.is_available():\n",
        "  device = torch.device('cuda')\n",
        "else:\n",
        "  device = torch.device('cpu')\n",
        "print(device)"
      ],
      "metadata": {
        "colab": {
          "base_uri": "https://localhost:8080/"
        },
        "id": "LcpAYX6ezRLA",
        "outputId": "134a986a-ec27-43b4-b587-6823b72460d1"
      },
      "execution_count": 17,
      "outputs": [
        {
          "output_type": "stream",
          "name": "stdout",
          "text": [
            "cpu\n"
          ]
        }
      ]
    },
    {
      "cell_type": "markdown",
      "source": [
        "## Show images"
      ],
      "metadata": {
        "id": "sueW9v9M0TFo"
      }
    },
    {
      "cell_type": "code",
      "source": [
        "classes = test_loader.dataset.classes\n",
        "def plot_figure(image):\n",
        "  plt.imshow(np.transpose(image(1, 2, 0)))\n",
        "  plt.axis('off')\n",
        "  plt.show()"
      ],
      "metadata": {
        "id": "lAh0VMk-0FZF"
      },
      "execution_count": null,
      "outputs": []
    },
    {
      "cell_type": "markdown",
      "source": [
        "## Calculate accuracy"
      ],
      "metadata": {
        "id": "JaAFXO_P0V_j"
      }
    },
    {
      "cell_type": "code",
      "source": [],
      "metadata": {
        "id": "HvYALS_k0W7d"
      },
      "execution_count": null,
      "outputs": []
    },
    {
      "cell_type": "code",
      "source": [],
      "metadata": {
        "id": "fE-sb4Ac0Wll"
      },
      "execution_count": null,
      "outputs": []
    }
  ]
}