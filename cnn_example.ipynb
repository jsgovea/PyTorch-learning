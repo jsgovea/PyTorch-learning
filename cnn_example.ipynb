{
  "nbformat": 4,
  "nbformat_minor": 0,
  "metadata": {
    "colab": {
      "provenance": [],
      "authorship_tag": "ABX9TyOpo7H4Q4ZT8TjqG8irT8wl",
      "include_colab_link": true
    },
    "kernelspec": {
      "name": "python3",
      "display_name": "Python 3"
    },
    "language_info": {
      "name": "python"
    }
  },
  "cells": [
    {
      "cell_type": "markdown",
      "metadata": {
        "id": "view-in-github",
        "colab_type": "text"
      },
      "source": [
        "<a href=\"https://colab.research.google.com/github/jsgovea/PyTorch-learning/blob/main/cnn_example.ipynb\" target=\"_parent\"><img src=\"https://colab.research.google.com/assets/colab-badge.svg\" alt=\"Open In Colab\"/></a>"
      ]
    },
    {
      "cell_type": "code",
      "execution_count": 2,
      "metadata": {
        "id": "SB6rLS2zebqM"
      },
      "outputs": [],
      "source": [
        "import numpy as np\n",
        "import torch\n",
        "import torch.nn as nn\n",
        "import torch.nn.functional as F\n",
        "\n",
        "from torch.utils.data import DataLoader, sampler\n",
        "import torchvision.datasets as datasets\n",
        "import torchvision.transforms as T\n",
        "import matplotlib.pyplot as plt\n"
      ]
    },
    {
      "cell_type": "code",
      "source": [
        "DATA_PATH = '/content/cifar-10'\n",
        "NUM_TRAIN = 50000\n",
        "NUM_VAL = 5000\n",
        "NUM_TEST = 5000\n",
        "MINBATCH_SIZE = 64\n",
        "\n",
        "transform_cifar = T.Compose([\n",
        "    T.ToTensor(),\n",
        "    T.Normalize([0.491, 0.482, 0.447], [0.247, 0.243, 0.261])\n",
        "])"
      ],
      "metadata": {
        "id": "CfDGveWKfuIi"
      },
      "execution_count": 3,
      "outputs": []
    },
    {
      "cell_type": "code",
      "source": [
        "# Train dataset\n",
        "\n",
        "# Download the dataset\n",
        "cifar10_train = datasets.CIFAR10(DATA_PATH, train=True, download=True,\n",
        "                                 transform=transform_cifar)\n",
        "\n",
        "train_loader = DataLoader(cifar10_train, batch_size=MINBATCH_SIZE,\n",
        "                          sampler=sampler.SubsetRandomSampler(range(NUM_TRAIN)))\n",
        "\n",
        "cifar10_val = datasets.CIFAR10(DATA_PATH, train=False, download=True,\n",
        "                              transform=transform_cifar)\n",
        "\n",
        "val_loader = DataLoader(cifar10_val, batch_size=MINBATCH_SIZE,\n",
        "                        sampler=sampler.SubsetRandomSampler(range(NUM_VAL)))\n",
        "\n",
        "cifar10_test = datasets.CIFAR10(DATA_PATH, train=False, download=True,\n",
        "                                transform=transform_cifar)\n",
        "\n",
        "test_loader = DataLoader(cifar10_test, batch_size=MINBATCH_SIZE,\n",
        "                         sampler=sampler.SubsetRandomSampler(range(NUM_VAL, len(cifar10_test))))\n",
        "\n"
      ],
      "metadata": {
        "colab": {
          "base_uri": "https://localhost:8080/"
        },
        "id": "5DJGX0PDgrJA",
        "outputId": "c430d708-e212-4b01-aa53-df35d464aedb"
      },
      "execution_count": 4,
      "outputs": [
        {
          "output_type": "stream",
          "name": "stdout",
          "text": [
            "Downloading https://www.cs.toronto.edu/~kriz/cifar-10-python.tar.gz to /content/cifar-10/cifar-10-python.tar.gz\n"
          ]
        },
        {
          "output_type": "stream",
          "name": "stderr",
          "text": [
            "100%|██████████| 170498071/170498071 [00:02<00:00, 67732191.14it/s]\n"
          ]
        },
        {
          "output_type": "stream",
          "name": "stdout",
          "text": [
            "Extracting /content/cifar-10/cifar-10-python.tar.gz to /content/cifar-10\n",
            "Files already downloaded and verified\n",
            "Files already downloaded and verified\n"
          ]
        }
      ]
    },
    {
      "cell_type": "code",
      "source": [
        "test_loader.dataset"
      ],
      "metadata": {
        "colab": {
          "base_uri": "https://localhost:8080/"
        },
        "id": "oRxFhamwgrGb",
        "outputId": "3287a7b3-966d-40b8-a2ab-de37e860d606"
      },
      "execution_count": 5,
      "outputs": [
        {
          "output_type": "execute_result",
          "data": {
            "text/plain": [
              "Dataset CIFAR10\n",
              "    Number of datapoints: 10000\n",
              "    Root location: /content/cifar-10\n",
              "    Split: Test\n",
              "    StandardTransform\n",
              "Transform: Compose(\n",
              "               ToTensor()\n",
              "               Normalize(mean=[0.491, 0.482, 0.447], std=[0.247, 0.243, 0.261])\n",
              "           )"
            ]
          },
          "metadata": {},
          "execution_count": 5
        }
      ]
    },
    {
      "cell_type": "markdown",
      "source": [
        "## Check the GPUs"
      ],
      "metadata": {
        "id": "mX1NkQ9T0Nc7"
      }
    },
    {
      "cell_type": "code",
      "source": [
        "if torch.cuda.is_available():\n",
        "  device = torch.device('cuda')\n",
        "else:\n",
        "  device = torch.device('cpu')\n",
        "print(device)"
      ],
      "metadata": {
        "colab": {
          "base_uri": "https://localhost:8080/"
        },
        "id": "LcpAYX6ezRLA",
        "outputId": "983c7440-b7a5-4df4-9466-4fa2b8141081"
      },
      "execution_count": 6,
      "outputs": [
        {
          "output_type": "stream",
          "name": "stdout",
          "text": [
            "cpu\n"
          ]
        }
      ]
    },
    {
      "cell_type": "markdown",
      "source": [
        "## Show images"
      ],
      "metadata": {
        "id": "sueW9v9M0TFo"
      }
    },
    {
      "cell_type": "markdown",
      "source": [],
      "metadata": {
        "id": "2KHL7xPaKV9p"
      }
    },
    {
      "cell_type": "code",
      "source": [
        "classes = test_loader.dataset.classes\n",
        "def plot_figure(image):\n",
        "  plt.imshow(np.transpose(image, (1, 2, 0)))\n",
        "  plt.axis('off')\n",
        "  plt.show()\n",
        "\n",
        "rnd_sample_idx = np.random.randint(len(test_loader))\n",
        "print(f\"The current image represents a: {classes[test_loader.dataset[rnd_sample_idx][1]]}\")\n",
        "image = test_loader.dataset[rnd_sample_idx][0]\n",
        "image = (image - image.min()) / (image.max() - image.min())\n",
        "plot_figure(image)"
      ],
      "metadata": {
        "colab": {
          "base_uri": "https://localhost:8080/",
          "height": 423
        },
        "id": "lAh0VMk-0FZF",
        "outputId": "041b1d00-243b-43b7-a7ad-354b99145d13"
      },
      "execution_count": 10,
      "outputs": [
        {
          "output_type": "stream",
          "name": "stdout",
          "text": [
            "The current image represents a: horse\n"
          ]
        },
        {
          "output_type": "display_data",
          "data": {
            "text/plain": [
              "<Figure size 640x480 with 1 Axes>"
            ],
            "image/png": "[encoded data removed]"
          },
          "metadata": {}
        }
      ]
    },
    {
      "cell_type": "code",
      "source": [
        "def plot_cifar10_grid():\n",
        "  classes = test_loader.dataset.classes\n",
        "  total_samples = 8\n",
        "  plt.figure(figsize=(15, 15))\n",
        "  for label, sample in enumerate(classes):\n",
        "    class_idxs = np.flatnonzero(label == np.array(test_loader.dataset.targets))\n",
        "    sample_idxs = np.random.choice(class_idxs, total_samples, replace=False)\n",
        "    for i, idx in enumerate(sample_idxs):\n",
        "      plt_idx = i * len(classes) * label + 1\n",
        "      plt.subplot(total_samples, len(classes), plt_idx)\n",
        "      plt.imshow(test_loader.dataset.data[idx])\n",
        "      plt.axis('off')\n",
        "\n",
        "      if i == 0: plt.title(sample)\n",
        "  plt.show()\n",
        "plot_cifar10_grid\n"
      ],
      "metadata": {
        "colab": {
          "base_uri": "https://localhost:8080/"
        },
        "id": "DtC26wDDcgpE",
        "outputId": "3df66366-6d72-4484-d54e-0e4840da8080"
      },
      "execution_count": 8,
      "outputs": [
        {
          "output_type": "execute_result",
          "data": {
            "text/plain": [
              "<function __main__.plot_cifar10_grid()>"
            ]
          },
          "metadata": {},
          "execution_count": 8
        }
      ]
    },
    {
      "cell_type": "markdown",
      "source": [
        "## Calculate accuracy"
      ],
      "metadata": {
        "id": "JaAFXO_P0V_j"
      }
    },
    {
      "cell_type": "code",
      "source": [],
      "metadata": {
        "id": "HvYALS_k0W7d"
      },
      "execution_count": 8,
      "outputs": []
    },
    {
      "cell_type": "code",
      "source": [],
      "metadata": {
        "id": "fE-sb4Ac0Wll"
      },
      "execution_count": 8,
      "outputs": []
    }
  ]
}